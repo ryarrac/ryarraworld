{
 "cells": [
  {
   "cell_type": "markdown",
   "metadata": {},
   "source": [
    "# Choropleth Maps\n",
    "\n",
    "This notebook is used to plot **Chilld Mortality Rate** in India in the year 2011. Dataset is taken from data.gov.in. \n",
    "Python Libraries used:\n",
    "Pandas\n",
    "Numpy\n",
    "Plotly\n",
    "\n",
    "Packages are imported only when they are required (Not at the beginning)\n"
   ]
  },
  {
   "cell_type": "markdown",
   "metadata": {},
   "source": [
    "Importing Pandas"
   ]
  },
  {
   "cell_type": "code",
   "execution_count": null,
   "metadata": {},
   "outputs": [],
   "source": [
    "import pandas as pd"
   ]
  },
  {
   "cell_type": "markdown",
   "metadata": {},
   "source": [
    "Loading the dataset as it is. This will give us an idea, what is to be cleaned. "
   ]
  },
  {
   "cell_type": "code",
   "execution_count": null,
   "metadata": {},
   "outputs": [],
   "source": [
    "initdf = pd.read_csv('infant_mortality_rate.csv')"
   ]
  },
  {
   "cell_type": "markdown",
   "metadata": {},
   "source": [
    "Looking into the top section of the dataset"
   ]
  },
  {
   "cell_type": "code",
   "execution_count": null,
   "metadata": {},
   "outputs": [],
   "source": [
    "initdf.head()"
   ]
  },
  {
   "cell_type": "markdown",
   "metadata": {},
   "source": [
    "The `info()` may give us more information about the dataset."
   ]
  },
  {
   "cell_type": "code",
   "execution_count": null,
   "metadata": {},
   "outputs": [],
   "source": [
    "initdf.info()"
   ]
  },
  {
   "cell_type": "markdown",
   "metadata": {},
   "source": [
    "Plan is only to plot the data from one year. So, all the information is not useful. The space from the column \\`  States/Union Territories\\` is not good for me. I would like to rename the headers in a different way in my final dataframe.  \\['Sl.No', 'States', '2005', '2006', '2007', '2008', '2009', '2010', '2011'\\] will be sufficient. Even though I will use the data for only one year, still I am keeping the data for 2005-2011. "
   ]
  },
  {
   "cell_type": "markdown",
   "metadata": {},
   "source": [
    "Creating the target header for dataset."
   ]
  },
  {
   "cell_type": "code",
   "execution_count": null,
   "metadata": {},
   "outputs": [],
   "source": [
    "c_header = ['Sl.No', 'States', '2005', '2006', '2007', '2008', '2009', '2010', '2011']\n",
    "#usecols =['Sl.No.', ' States/Union Territories','2005', '2006', '2007', '2008', '2009', '2010', '2011']"
   ]
  },
  {
   "cell_type": "markdown",
   "metadata": {},
   "source": [
    "Lets create the required dataset. "
   ]
  },
  {
   "cell_type": "code",
   "execution_count": null,
   "metadata": {},
   "outputs": [],
   "source": [
    "df = pd.read_csv('infant_mortality_rate.csv' , usecols =['Sl.No.', ' States/Union Territories','2005', '2006', '2007', '2008', '2009', '2010', '2011'])"
   ]
  },
  {
   "cell_type": "markdown",
   "metadata": {},
   "source": [
    "First look of the imported dataset. "
   ]
  },
  {
   "cell_type": "code",
   "execution_count": null,
   "metadata": {},
   "outputs": [],
   "source": [
    "df.head()"
   ]
  },
  {
   "cell_type": "code",
   "execution_count": null,
   "metadata": {},
   "outputs": [],
   "source": [
    "df.info()"
   ]
  },
  {
   "cell_type": "markdown",
   "metadata": {},
   "source": [
    "We now know the exact header names. Changing the headers to the desired set. "
   ]
  },
  {
   "cell_type": "code",
   "execution_count": null,
   "metadata": {},
   "outputs": [],
   "source": [
    "df.columns=c_header"
   ]
  },
  {
   "cell_type": "code",
   "execution_count": null,
   "metadata": {},
   "outputs": [],
   "source": [
    "df.head()"
   ]
  },
  {
   "cell_type": "markdown",
   "metadata": {},
   "source": [
    "Lets have a look to the States column."
   ]
  },
  {
   "cell_type": "code",
   "execution_count": null,
   "metadata": {},
   "outputs": [],
   "source": [
    "df['States']"
   ]
  },
  {
   "cell_type": "markdown",
   "metadata": {},
   "source": [
    "The dataset needs some clearning. ALL INDIA is not a state name. Lets delete that from the dataset. "
   ]
  },
  {
   "cell_type": "code",
   "execution_count": null,
   "metadata": {},
   "outputs": [],
   "source": [
    "# index = df[df['States'] == 'ALL INDIA'].index\n",
    "# df.drop(index, inplace=True)\n",
    "df=df.drop(35)"
   ]
  },
  {
   "cell_type": "markdown",
   "metadata": {},
   "source": [
    "Few other state names needs modifications. But before that, it is better to load the geojson file from which we will create the map. We should know how the states names are written in the geojson file. To use geojson file, we should import the json library."
   ]
  },
  {
   "cell_type": "code",
   "execution_count": null,
   "metadata": {},
   "outputs": [],
   "source": [
    "import json"
   ]
  },
  {
   "cell_type": "markdown",
   "metadata": {},
   "source": [
    "The geojson file can be taken from anywhere. To get the exact geojson file which is used here, [check here](https://un-mapped.carto.com/tables/states_india/public/map)"
   ]
  },
  {
   "cell_type": "code",
   "execution_count": null,
   "metadata": {},
   "outputs": [],
   "source": [
    "ind_states = json.load(open('states_india.geojson', 'r'))"
   ]
  },
  {
   "cell_type": "markdown",
   "metadata": {},
   "source": [
    "Checking the keys. "
   ]
  },
  {
   "cell_type": "code",
   "execution_count": null,
   "metadata": {},
   "outputs": [],
   "source": [
    "ind_states['features'][0].keys()"
   ]
  },
  {
   "cell_type": "code",
   "execution_count": null,
   "metadata": {},
   "outputs": [],
   "source": [
    "ind_states['features'][0]['properties']"
   ]
  },
  {
   "cell_type": "markdown",
   "metadata": {},
   "source": [
    "Declaring a dictionary. This dictionary will be used for mapping the geojson file and our dataset. "
   ]
  },
  {
   "cell_type": "code",
   "execution_count": null,
   "metadata": {},
   "outputs": [],
   "source": [
    "mapping = {}"
   ]
  },
  {
   "cell_type": "code",
   "execution_count": null,
   "metadata": {},
   "outputs": [],
   "source": [
    "for feature in ind_states['features']:\n",
    "    feature['id'] = feature['properties']['state_code']\n",
    "    mapping[feature['properties']['st_nm']] = feature['id']"
   ]
  },
  {
   "cell_type": "markdown",
   "metadata": {},
   "source": [
    "Lets check, what is now stored in the mapping. "
   ]
  },
  {
   "cell_type": "code",
   "execution_count": null,
   "metadata": {},
   "outputs": [],
   "source": [
    "mapping"
   ]
  },
  {
   "cell_type": "markdown",
   "metadata": {},
   "source": [
    "The reason behind loading the json file before renaming the errors in our previous dataset was to check if anything needs to be modified in the geojson file. Here, the name **Arunachal Pradesh** is written as Aruna**n**chal Pradesh and I don't like the name **NCT of Delhi**, instead, I will use **Delhi**. It is just a choice of individuals. If you feel comfortable with the names, you can make the changes in the dataframe.\n",
    "\n",
    "Normally, when we need to change the keys of a python dictionary, we do it two stages. First, adding the new key and then deleting the old key. But with the use of **pop** we can do it in one step. \n",
    "\n",
    "The syntax is: \n",
    "\n",
    "`dictionary_name['new key'] = dictionary_name.pop('old key)`"
   ]
  },
  {
   "cell_type": "code",
   "execution_count": null,
   "metadata": {},
   "outputs": [],
   "source": [
    "mapping['Arunachal Pradesh'] = mapping.pop('Arunanchal Pradesh')\n",
    "mapping['Delhi'] = mapping.pop('NCT of Delhi')"
   ]
  },
  {
   "cell_type": "markdown",
   "metadata": {},
   "source": [
    "Checking, if the changes are OK."
   ]
  },
  {
   "cell_type": "code",
   "execution_count": null,
   "metadata": {},
   "outputs": [],
   "source": [
    "mapping"
   ]
  },
  {
   "cell_type": "markdown",
   "metadata": {},
   "source": [
    "Now, lets have a look in our dataframe and to identify what changes needs to be done."
   ]
  },
  {
   "cell_type": "code",
   "execution_count": null,
   "metadata": {},
   "outputs": [],
   "source": [
    "df"
   ]
  },
  {
   "cell_type": "markdown",
   "metadata": {},
   "source": [
    "Unlike the geojson file, the names \\['D&N Haveli','A&N Islands','Chhatisgarh','Uttaranchal'\\] in our dataframe is not right. Lets correct those values."
   ]
  },
  {
   "cell_type": "code",
   "execution_count": null,
   "metadata": {},
   "outputs": [],
   "source": [
    "df['States'] = df['States'].replace(['D&N Haveli','A&N Islands','Chhatisgarh','Uttaranchal' ],['Dadara & Nagar Havelli','Andaman & Nicobar Island','Chhattisgarh','Uttarakhand'])"
   ]
  },
  {
   "cell_type": "markdown",
   "metadata": {},
   "source": [
    "Lets look to the corrected values. "
   ]
  },
  {
   "cell_type": "code",
   "execution_count": null,
   "metadata": {},
   "outputs": [],
   "source": [
    "df"
   ]
  },
  {
   "cell_type": "markdown",
   "metadata": {},
   "source": [
    "Looks good. Now, lets link the files and create an 'id' column in our dataframe. "
   ]
  },
  {
   "cell_type": "code",
   "execution_count": null,
   "metadata": {},
   "outputs": [],
   "source": [
    "df['id'] = df['States'].apply(lambda x: mapping[x])"
   ]
  },
  {
   "cell_type": "markdown",
   "metadata": {},
   "source": [
    "Lets see, how the dataframe looks now. "
   ]
  },
  {
   "cell_type": "code",
   "execution_count": null,
   "metadata": {},
   "outputs": [],
   "source": [
    "df"
   ]
  },
  {
   "cell_type": "markdown",
   "metadata": {},
   "source": [
    "The dataframe looks OK. We are ready to create our Chropleth. For that we will need plotly library."
   ]
  },
  {
   "cell_type": "code",
   "execution_count": null,
   "metadata": {},
   "outputs": [],
   "source": [
    "import plotly.express as px"
   ]
  },
  {
   "cell_type": "markdown",
   "metadata": {},
   "source": [
    "The plotly.io webbrowser and renderers are not required, unless you are using Jupyter Notebook/lab. If you intend to use those. Uncomment those lines. "
   ]
  },
  {
   "cell_type": "code",
   "execution_count": null,
   "metadata": {},
   "outputs": [],
   "source": [
    "import plotly.io as pio"
   ]
  },
  {
   "cell_type": "code",
   "execution_count": null,
   "metadata": {},
   "outputs": [],
   "source": [
    "#import webbrowser"
   ]
  },
  {
   "cell_type": "code",
   "execution_count": null,
   "metadata": {},
   "outputs": [],
   "source": [
    "#pio.renderers.default = 'browser'"
   ]
  },
  {
   "cell_type": "markdown",
   "metadata": {},
   "source": [
    "We will create multiple plots, for a comparison. The first plot is simply putting the data and to create an instance in the world map.  "
   ]
  },
  {
   "cell_type": "code",
   "execution_count": null,
   "metadata": {},
   "outputs": [],
   "source": [
    "fig = px.choropleth(df, locations='id', geojson=ind_states, color='2011')"
   ]
  },
  {
   "cell_type": "code",
   "execution_count": null,
   "metadata": {},
   "outputs": [],
   "source": [
    "fig.show()"
   ]
  },
  {
   "cell_type": "markdown",
   "metadata": {},
   "source": [
    "This map look too small. The targeted area is out of scope. Lets make the scope right by taking only Asia as a reference."
   ]
  },
  {
   "cell_type": "code",
   "execution_count": null,
   "metadata": {},
   "outputs": [],
   "source": [
    "fig1 = px.choropleth(df, locations='id', geojson=ind_states, color='2011', scope='asia')"
   ]
  },
  {
   "cell_type": "code",
   "execution_count": null,
   "metadata": {},
   "outputs": [],
   "source": [
    "fig1.show()"
   ]
  },
  {
   "cell_type": "markdown",
   "metadata": {},
   "source": [
    "Lets eliminate other areas which are not important in this map and fit the map to visible area. "
   ]
  },
  {
   "cell_type": "code",
   "execution_count": null,
   "metadata": {},
   "outputs": [],
   "source": [
    "fig1.update_geos(fitbounds=\"locations\", visible = False)"
   ]
  },
  {
   "cell_type": "code",
   "execution_count": null,
   "metadata": {},
   "outputs": [],
   "source": [
    "#fig1.show()"
   ]
  },
  {
   "cell_type": "markdown",
   "metadata": {},
   "source": [
    "pyplot is also accompanied by a beautiful library called as **[mapbox](https://plotly.com/python/maps/)**. The mapbox library is far advanced. Lets use the mapbox to make our map more beautiful. Note: Nothing needs to be imported to use mapbox, as it is a part of pyplot library."
   ]
  },
  {
   "cell_type": "code",
   "execution_count": null,
   "metadata": {},
   "outputs": [],
   "source": [
    "fig2 = px.choropleth_mapbox(df,\n",
    "                            locations='id', \n",
    "                            geojson=ind_states, \n",
    "                            color='2011', \n",
    "                            hover_name = \"States\",\n",
    "                            hover_data = [\"2011\"],\n",
    "                            mapbox_style=\"carto-positron\",\n",
    "                            zoom = 4,\n",
    "                            center={\"lat\":24, \"lon\":78},\n",
    "                            opacity=0.5                            \n",
    "                    )\n",
    "fig2.show()"
   ]
  },
  {
   "cell_type": "code",
   "execution_count": null,
   "metadata": {},
   "outputs": [],
   "source": [
    "df"
   ]
  },
  {
   "cell_type": "code",
   "execution_count": null,
   "metadata": {},
   "outputs": [],
   "source": [
    "fig2 = px.choropleth(df, \n",
    "                     locations='id', \n",
    "                     geojson=ind_states, \n",
    "                     color='2011_log', \n",
    "                     scope='asia',\n",
    "                     hover_name = \"States\",\n",
    "                     hover_data = [\"2011\"]\n",
    "                    )"
   ]
  },
  {
   "cell_type": "code",
   "execution_count": null,
   "metadata": {},
   "outputs": [],
   "source": []
  },
  {
   "cell_type": "code",
   "execution_count": null,
   "metadata": {},
   "outputs": [],
   "source": [
    "fig2.update_geos(fitbounds=\"locations\", visible = False)"
   ]
  },
  {
   "cell_type": "code",
   "execution_count": null,
   "metadata": {},
   "outputs": [],
   "source": [
    "# Using Mapbox\n",
    "fig3 = px.choropleth_mapbox(df,\n",
    "                            locations='id', \n",
    "                            geojson=ind_states, \n",
    "                            color='2011_log', \n",
    "                            hover_name = \"States\",\n",
    "                            hover_data = [\"2011\"],\n",
    "                            mapbox_style=\"carto-positron\",\n",
    "                            zoom = 4,\n",
    "                            center={\"lat\":24, \"lon\":78},\n",
    "                            opacity=0.5                            \n",
    "                    )\n",
    "fig3.show()"
   ]
  },
  {
   "cell_type": "code",
   "execution_count": null,
   "metadata": {},
   "outputs": [],
   "source": []
  }
 ],
 "metadata": {
  "kernelspec": {
   "display_name": "Python 3",
   "language": "python",
   "name": "python3"
  },
  "language_info": {
   "codemirror_mode": {
    "name": "ipython",
    "version": 3
   },
   "file_extension": ".py",
   "mimetype": "text/x-python",
   "name": "python",
   "nbconvert_exporter": "python",
   "pygments_lexer": "ipython3",
   "version": "3.8.6"
  }
 },
 "nbformat": 4,
 "nbformat_minor": 4
}
